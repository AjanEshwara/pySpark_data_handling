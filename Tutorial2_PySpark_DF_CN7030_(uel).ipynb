{
  "nbformat": 4,
  "nbformat_minor": 0,
  "metadata": {
    "kernelspec": {
      "display_name": "Python 3",
      "language": "python",
      "name": "python3"
    },
    "language_info": {
      "codemirror_mode": {
        "name": "ipython",
        "version": 3
      },
      "file_extension": ".py",
      "mimetype": "text/x-python",
      "name": "python",
      "nbconvert_exporter": "python",
      "pygments_lexer": "ipython3",
      "version": "3.8.3"
    },
    "colab": {
      "provenance": [],
      "include_colab_link": true
    }
  },
  "cells": [
    {
      "cell_type": "markdown",
      "metadata": {
        "id": "view-in-github",
        "colab_type": "text"
      },
      "source": [
        "<a href=\"https://colab.research.google.com/github/AjanEshwara/pySpark_data_handling/blob/main/Tutorial2_PySpark_DF_CN7030_(uel).ipynb\" target=\"_parent\"><img src=\"https://colab.research.google.com/assets/colab-badge.svg\" alt=\"Open In Colab\"/></a>"
      ]
    },
    {
      "cell_type": "markdown",
      "metadata": {
        "id": "gjuAVgrxmIo3"
      },
      "source": [
        "# **Unlock the Potential of PySpark DataFrames: Hands-on Tips and Personalizations**\n",
        "\n",
        "`University of East London, Docklands Campus, 2024-25`\n",
        "\n",
        "`module name`: **`Machine Learning on Big Data (CN7030) - MSc AI&DS`**\n",
        "\n",
        "`Author`: **`Dr Amin Karami (PG Academic Lead in CDT School)`**\n",
        "\n",
        "`E`: **`a.karami@uel.ac.uk`**\n",
        "\n",
        "`W`: **`http://www.aminkarami.com/`**\n",
        "\n",
        "---\n",
        "\n",
        "**DataFrame (DF)**: Schema (named columns) + declarative language. A DataFrame is a Dataset organized into named columns. It is conceptually equivalent to a table in a relational database. It is very efficient for strucutred data.\n",
        "\n",
        "data: https://drive.google.com/file/d/1HiP_TkWYClAmzhhOFzhXdOXTfZb9DoB_/view?usp=drive_link (641MB)\n",
        "\n",
        "source: https://spark.apache.org/docs/latest/sql-programming-guide.html\n",
        "\n",
        "source: https://spark.apache.org/docs/latest/api/python/reference/"
      ]
    },
    {
      "cell_type": "markdown",
      "source": [
        "# **Section 1: Initialize PySpark**"
      ],
      "metadata": {
        "id": "ZSEJYGn6Byzu"
      }
    },
    {
      "cell_type": "code",
      "metadata": {
        "id": "0LWTJaC8mHL5",
        "colab": {
          "base_uri": "https://localhost:8080/"
        },
        "outputId": "efe6f9b3-e8ae-4c8f-b645-5b59e8052d05"
      },
      "source": [
        "!pip3 install pyspark"
      ],
      "execution_count": 2,
      "outputs": [
        {
          "output_type": "stream",
          "name": "stdout",
          "text": [
            "Requirement already satisfied: pyspark in /usr/local/lib/python3.11/dist-packages (3.5.5)\n",
            "Requirement already satisfied: py4j==0.10.9.7 in /usr/local/lib/python3.11/dist-packages (from pyspark) (0.10.9.7)\n"
          ]
        }
      ]
    },
    {
      "cell_type": "markdown",
      "source": [
        "# **System Check**"
      ],
      "metadata": {
        "id": "pkw8clYXax_k"
      }
    },
    {
      "cell_type": "code",
      "source": [
        "#system free space memory\n",
        "!free -h"
      ],
      "metadata": {
        "id": "nIRRJNQkanIW",
        "colab": {
          "base_uri": "https://localhost:8080/"
        },
        "outputId": "117f5611-d7b4-433a-86e4-048513b8222a"
      },
      "execution_count": 3,
      "outputs": [
        {
          "output_type": "stream",
          "name": "stdout",
          "text": [
            "               total        used        free      shared  buff/cache   available\n",
            "Mem:            12Gi       787Mi       7.0Gi       1.0Mi       4.9Gi        11Gi\n",
            "Swap:             0B          0B          0B\n"
          ]
        }
      ]
    },
    {
      "cell_type": "code",
      "source": [
        "#available free cores\n",
        "!nproc"
      ],
      "metadata": {
        "colab": {
          "base_uri": "https://localhost:8080/"
        },
        "id": "4ilK_46ZB-Gn",
        "outputId": "01128d60-7b25-4b98-ba85-2d235b796d16"
      },
      "execution_count": 4,
      "outputs": [
        {
          "output_type": "stream",
          "name": "stdout",
          "text": [
            "2\n"
          ]
        }
      ]
    },
    {
      "cell_type": "markdown",
      "source": [
        "# **Linking with Spark**"
      ],
      "metadata": {
        "id": "1hxR5oWBc--l"
      }
    },
    {
      "cell_type": "code",
      "source": [
        "# Linking with Spark\n",
        "import pyspark\n",
        "from pyspark.sql import SparkSession\n",
        "\n",
        "spark = SparkSession.builder \\\n",
        "                    .appName(\"Tutorial2_CN7030\") \\\n",
        "                    .master(\"local[*]\") \\\n",
        "                    .config(\"spark.executor.memory\", \"4g\") \\\n",
        "                    .config(\"spark.driver.memory\", \"2g\") \\\n",
        "                    .config(\"spark.executor.cores\", \"2\") \\\n",
        "                    .config(\"spark.sql.inMemoryColumnarStorage.compressed\", \"true\") \\\n",
        "                    .getOrCreate()\n",
        "\n",
        "spark"
      ],
      "metadata": {
        "id": "e3pTfRiwTMeY",
        "colab": {
          "base_uri": "https://localhost:8080/",
          "height": 219
        },
        "outputId": "e29fcf18-af72-45c0-b1e2-71a8cd42ad3f"
      },
      "execution_count": 5,
      "outputs": [
        {
          "output_type": "execute_result",
          "data": {
            "text/plain": [
              "<pyspark.sql.session.SparkSession at 0x7a99ca8b9010>"
            ],
            "text/html": [
              "\n",
              "            <div>\n",
              "                <p><b>SparkSession - in-memory</b></p>\n",
              "                \n",
              "        <div>\n",
              "            <p><b>SparkContext</b></p>\n",
              "\n",
              "            <p><a href=\"http://47594ab36d48:4040\">Spark UI</a></p>\n",
              "\n",
              "            <dl>\n",
              "              <dt>Version</dt>\n",
              "                <dd><code>v3.5.5</code></dd>\n",
              "              <dt>Master</dt>\n",
              "                <dd><code>local[*]</code></dd>\n",
              "              <dt>AppName</dt>\n",
              "                <dd><code>Tutorial2_CN7030</code></dd>\n",
              "            </dl>\n",
              "        </div>\n",
              "        \n",
              "            </div>\n",
              "        "
            ]
          },
          "metadata": {},
          "execution_count": 5
        }
      ]
    },
    {
      "cell_type": "code",
      "source": [
        "#Linkink with spark\n",
        "import pyspark\n",
        "from pyspark.sql import SparkSession\n",
        "\n",
        "spark = SparkSession.builder \\\n",
        "                    .appName(\"Tutorial_01\") \\\n",
        "                    .master(\"local[*]\") \\\n",
        "                    .config(\"spark.executor.memory\", \"4g\") \\\n",
        "                    .config(\"spark.driver.memory\", \"2g\") \\\n",
        "                    .config(\"spark.executor.cores\", \"2\") \\\n",
        "                    .config(\"spark.sql.inMemoryColumnarStorage.compressed\", \"true\") \\\n",
        "                    .getOrCreate()\n",
        "\n",
        "spark"
      ],
      "metadata": {
        "colab": {
          "base_uri": "https://localhost:8080/",
          "height": 219
        },
        "id": "RJzJa3wOFdm-",
        "outputId": "25b81739-4bac-4ff7-fbc9-1cd5ebaa69ff"
      },
      "execution_count": 6,
      "outputs": [
        {
          "output_type": "execute_result",
          "data": {
            "text/plain": [
              "<pyspark.sql.session.SparkSession at 0x7a99ca8b9010>"
            ],
            "text/html": [
              "\n",
              "            <div>\n",
              "                <p><b>SparkSession - in-memory</b></p>\n",
              "                \n",
              "        <div>\n",
              "            <p><b>SparkContext</b></p>\n",
              "\n",
              "            <p><a href=\"http://47594ab36d48:4040\">Spark UI</a></p>\n",
              "\n",
              "            <dl>\n",
              "              <dt>Version</dt>\n",
              "                <dd><code>v3.5.5</code></dd>\n",
              "              <dt>Master</dt>\n",
              "                <dd><code>local[*]</code></dd>\n",
              "              <dt>AppName</dt>\n",
              "                <dd><code>Tutorial2_CN7030</code></dd>\n",
              "            </dl>\n",
              "        </div>\n",
              "        \n",
              "            </div>\n",
              "        "
            ]
          },
          "metadata": {},
          "execution_count": 6
        }
      ]
    },
    {
      "cell_type": "markdown",
      "source": [
        "# **Connect to the Google Drive**"
      ],
      "metadata": {
        "id": "x9zOJhv8beV5"
      }
    },
    {
      "cell_type": "code",
      "source": [
        "from google.colab import drive\n",
        "drive.mount('/content/drive')"
      ],
      "metadata": {
        "id": "10_-HkUHbc1O",
        "colab": {
          "base_uri": "https://localhost:8080/"
        },
        "outputId": "6ae47f4f-7b89-48c9-8a51-533c3e49f8c9"
      },
      "execution_count": 7,
      "outputs": [
        {
          "output_type": "stream",
          "name": "stdout",
          "text": [
            "Mounted at /content/drive\n"
          ]
        }
      ]
    },
    {
      "cell_type": "code",
      "source": [
        "from google.colab import drive\n",
        "drive.mount('/content/drive')"
      ],
      "metadata": {
        "colab": {
          "base_uri": "https://localhost:8080/"
        },
        "id": "pIX23MOeIVXy",
        "outputId": "71513b8d-d015-465e-b94d-8246892f8edd"
      },
      "execution_count": 8,
      "outputs": [
        {
          "output_type": "stream",
          "name": "stdout",
          "text": [
            "Mounted at /content/drive\n"
          ]
        }
      ]
    },
    {
      "cell_type": "markdown",
      "source": [
        "# **Section 2: Create PySpark DataFrame from CSV**"
      ],
      "metadata": {
        "id": "qfm3366qOMyk"
      }
    },
    {
      "cell_type": "code",
      "source": [
        "df = spark.read.format('csv').load(\"/content/drive/MyDrive/data.csv\", header=True, inferSchema=True)\n",
        "\n",
        "#show table\n",
        "df.show(truncate=True)\n",
        "\n",
        "#show schema\n",
        "df.printSchema()\n",
        "\n",
        "#some info\n",
        "print(df.count())\n",
        "print(len(df.columns))"
      ],
      "metadata": {
        "id": "1n39Bv24XHjt",
        "colab": {
          "base_uri": "https://localhost:8080/"
        },
        "outputId": "5fe2dca6-c6f4-4ae5-ccde-161a3c2eec80"
      },
      "execution_count": 8,
      "outputs": [
        {
          "output_type": "stream",
          "name": "stdout",
          "text": [
            "+--------------------+------------------+------+------------------+-----+------+------+------+--------+------+--------+\n",
            "|                  id|               age|salary|             score|sales|height|weight|gender|category|income|expenses|\n",
            "+--------------------+------------------+------+------------------+-----+------+------+------+--------+------+--------+\n",
            "|  0.8017532427858894| 79.71301351894658|     4| 37.10369234532471|   47|    62|     5|Female|       B|     8|      85|\n",
            "|  0.6565552949992319| 24.22600602366628|     6| 79.75769828959885|    8|    30|    42|  Male|       A|    70|      85|\n",
            "|  0.2515595782593636| 70.97364852287149|    17| 71.71375356646551|   82|     1|    72|  Male|       A|    66|      53|\n",
            "|  0.2073428376111074| 45.09378549789149|    32|              NULL|   59|    12|    21|  Male|       B|    56|       2|\n",
            "|  0.6392921379278927|30.357970527906065|    13|              NULL|   22|    69|    58|Female|       A|     0|      74|\n",
            "|  0.8505582285081454|              NULL|    14| 36.36958873390776|   16|    57|    51|Female|       B|    22|      52|\n",
            "|  0.8184715436384177|              NULL|    88|              NULL|   23|    54|    41|  Male|       B|    19|      27|\n",
            "|  0.7555506990689408| 57.94047153077633|    37| 99.05156945373632|   18|    67|    94|Female|       A|    91|      89|\n",
            "| 0.34380469538701885|              NULL|     0| 68.12994102604317|   50|    66|    29|Female|       A|    39|      10|\n",
            "| 0.07531261247891552| 78.00738662272417|    44|57.377461450339794|   32|    83|    68|  Male|       A|     3|      35|\n",
            "|  0.6520025939987977| 5.739474360847097|    60|              NULL|   69|    20|    59|Female|       A|    89|      94|\n",
            "|  0.6703304054828096| 82.09315695991832|    61| 86.30976835817982|   13|    64|     5|Female|       B|    30|      10|\n",
            "|   0.635481528615935|29.232534249025754|    33| 72.17303870051973|   19|    42|     5|Female|       A|     1|      11|\n",
            "|  0.6088087252200041| 46.04202629270567|    20| 82.62279087618317|   83|    39|    26|  Male|       A|    10|      58|\n",
            "|  0.9688522184233442|              NULL|    32|              NULL|   55|    88|    83|Female|       A|    98|      18|\n",
            "| 0.12847898035637806| 58.74807147974267|    41|25.651553478847266|   96|     0|     3|Female|       B|    36|      23|\n",
            "|  0.7095122526980591|              NULL|    69|              NULL|   72|    39|    97|  Male|       A|    88|      18|\n",
            "|0.054599328832547256|58.445521939730064|    84|29.619007900937078|   94|    72|    74|  Male|       A|    78|      87|\n",
            "|  0.8363451490970935| 9.267427535136319|    35|              NULL|   62|    16|    30|Female|       B|    13|      69|\n",
            "| 0.06476522637900317|              NULL|    47|              NULL|   78|    19|     4|Female|       B|    80|      23|\n",
            "+--------------------+------------------+------+------------------+-----+------+------+------+--------+------+--------+\n",
            "only showing top 20 rows\n",
            "\n",
            "root\n",
            " |-- id: double (nullable = true)\n",
            " |-- age: double (nullable = true)\n",
            " |-- salary: integer (nullable = true)\n",
            " |-- score: double (nullable = true)\n",
            " |-- sales: integer (nullable = true)\n",
            " |-- height: integer (nullable = true)\n",
            " |-- weight: integer (nullable = true)\n",
            " |-- gender: string (nullable = true)\n",
            " |-- category: string (nullable = true)\n",
            " |-- income: integer (nullable = true)\n",
            " |-- expenses: integer (nullable = true)\n",
            "\n",
            "10000000\n",
            "11\n"
          ]
        }
      ]
    },
    {
      "cell_type": "markdown",
      "source": [
        "# How many partitions?"
      ],
      "metadata": {
        "id": "JFZJfbFyJbrr"
      }
    },
    {
      "cell_type": "code",
      "source": [
        "df.rdd.getNumPartitions()"
      ],
      "metadata": {
        "id": "aaB1cqUhJayf",
        "colab": {
          "base_uri": "https://localhost:8080/"
        },
        "outputId": "111c45d2-48d6-4d22-d8d9-e3148bf9b027"
      },
      "execution_count": 9,
      "outputs": [
        {
          "output_type": "execute_result",
          "data": {
            "text/plain": [
              "6"
            ]
          },
          "metadata": {},
          "execution_count": 9
        }
      ]
    },
    {
      "cell_type": "markdown",
      "source": [
        "# Let's increase the number of partitions"
      ],
      "metadata": {
        "id": "CBUU6lKRJ5_s"
      }
    },
    {
      "cell_type": "code",
      "source": [
        "df2 = df.repartition(8)\n",
        "df2.rdd.getNumPartitions()"
      ],
      "metadata": {
        "id": "eQ-wBuxDJy7V",
        "colab": {
          "base_uri": "https://localhost:8080/"
        },
        "outputId": "eaf51e10-c633-41ba-9a9a-c5b9a7438ced"
      },
      "execution_count": 10,
      "outputs": [
        {
          "output_type": "execute_result",
          "data": {
            "text/plain": [
              "8"
            ]
          },
          "metadata": {},
          "execution_count": 10
        }
      ]
    },
    {
      "cell_type": "code",
      "source": [
        "df3 = df.repartition('category')\n",
        "df3.rdd.getNumPartitions()"
      ],
      "metadata": {
        "colab": {
          "base_uri": "https://localhost:8080/"
        },
        "id": "YNHzeCZTifYK",
        "outputId": "bacf7661-520b-42bd-bb49-bb828345e650"
      },
      "execution_count": 11,
      "outputs": [
        {
          "output_type": "execute_result",
          "data": {
            "text/plain": [
              "2"
            ]
          },
          "metadata": {},
          "execution_count": 11
        }
      ]
    },
    {
      "cell_type": "code",
      "source": [
        "df4 = df.repartition(6, 'category')\n",
        "df4.rdd.getNumPartitions()"
      ],
      "metadata": {
        "colab": {
          "base_uri": "https://localhost:8080/"
        },
        "id": "Cl4r-HCdkSIx",
        "outputId": "6449cf1f-0cdb-4454-8d34-b28418d9c1b1"
      },
      "execution_count": 12,
      "outputs": [
        {
          "output_type": "execute_result",
          "data": {
            "text/plain": [
              "6"
            ]
          },
          "metadata": {},
          "execution_count": 12
        }
      ]
    },
    {
      "cell_type": "code",
      "source": [
        "df5 = df.repartitionByRange(10, \"income\")\n",
        "df5.rdd.getNumPartitions()"
      ],
      "metadata": {
        "colab": {
          "base_uri": "https://localhost:8080/"
        },
        "id": "HNlLH1T9lPf_",
        "outputId": "a9b5627e-2548-491f-b3aa-8567b171a2cf"
      },
      "execution_count": 13,
      "outputs": [
        {
          "output_type": "execute_result",
          "data": {
            "text/plain": [
              "10"
            ]
          },
          "metadata": {},
          "execution_count": 13
        }
      ]
    },
    {
      "cell_type": "markdown",
      "source": [
        "# Write the DF to disk in a partitioned manner"
      ],
      "metadata": {
        "id": "PJz7GJS2dVqk"
      }
    },
    {
      "cell_type": "code",
      "source": [
        "df5.write.option('header', True) \\\n",
        "          .partitionBy('gender') \\\n",
        "          .mode('overwrite') \\\n",
        "          .csv('df5_repartion_gender')"
      ],
      "metadata": {
        "id": "Fw-9D3g4dh4_"
      },
      "execution_count": 14,
      "outputs": []
    },
    {
      "cell_type": "code",
      "source": [
        "df4.write.option('header', True) \\\n",
        "          .partitionBy('gender') \\\n",
        "          .mode('overwrite') \\\n",
        "          .csv('df4_repartion_gender')"
      ],
      "metadata": {
        "id": "36FflrOfq_bM"
      },
      "execution_count": 15,
      "outputs": []
    },
    {
      "cell_type": "code",
      "source": [
        "df5.repartition(3).write.option('header', True) \\\n",
        "                  .partitionBy('gender') \\\n",
        "                  .mode('overwrite') \\\n",
        "                  .csv('df5_repartion_gender_2')"
      ],
      "metadata": {
        "id": "ek8fEV9GtM9r"
      },
      "execution_count": 16,
      "outputs": []
    },
    {
      "cell_type": "code",
      "source": [
        "df4.write.option('header', True) \\\n",
        "         .partitionBy(\"gender\") \\\n",
        "         .mode(\"overwrite\") \\\n",
        "         .csv(\"gender_df4\")\n",
        "\n",
        "# spark.conf.set(\"spark.sql.files.maxRecordsPerFile\", \"500000\")"
      ],
      "metadata": {
        "id": "cQbgIPGquShA"
      },
      "execution_count": 17,
      "outputs": []
    },
    {
      "cell_type": "code",
      "source": [
        "df5.coalesce(6).write.option('header', True) \\\n",
        "         .partitionBy(\"gender\", \"category\") \\\n",
        "         .mode(\"overwrite\") \\\n",
        "         .csv(\"gender_df5_twoPartitons\")\n",
        "\n"
      ],
      "metadata": {
        "id": "P9C2J_dduWcU"
      },
      "execution_count": 18,
      "outputs": []
    },
    {
      "cell_type": "markdown",
      "source": [
        "# **Section 3: DataFrame Operations and Transformations**"
      ],
      "metadata": {
        "id": "kVjzSCVmnN7l"
      }
    },
    {
      "cell_type": "code",
      "source": [
        "df2.select('gender', 'income','age').show(5)"
      ],
      "metadata": {
        "id": "yglZp0fpnONc",
        "colab": {
          "base_uri": "https://localhost:8080/"
        },
        "outputId": "908c4f1c-99bf-48be-ec00-67ceed20525d"
      },
      "execution_count": 19,
      "outputs": [
        {
          "output_type": "stream",
          "name": "stdout",
          "text": [
            "+------+------+-----------------+\n",
            "|gender|income|              age|\n",
            "+------+------+-----------------+\n",
            "|  Male|    67| 72.5729444487239|\n",
            "|Female|    22|79.65777311571274|\n",
            "|  Male|    60|83.53864267645021|\n",
            "|Female|    38|40.53360311225305|\n",
            "|  Male|    80|72.95804039716336|\n",
            "+------+------+-----------------+\n",
            "only showing top 5 rows\n",
            "\n"
          ]
        }
      ]
    },
    {
      "cell_type": "code",
      "source": [
        "df4.select('gender', 'salary','age').show(5)"
      ],
      "metadata": {
        "colab": {
          "base_uri": "https://localhost:8080/"
        },
        "id": "s_HrJEPKwact",
        "outputId": "70d49345-5614-4cfd-a118-b6c96318474a"
      },
      "execution_count": 20,
      "outputs": [
        {
          "output_type": "stream",
          "name": "stdout",
          "text": [
            "+------+------+------------------+\n",
            "|gender|salary|               age|\n",
            "+------+------+------------------+\n",
            "|  Male|     6| 24.22600602366628|\n",
            "|  Male|    17| 70.97364852287149|\n",
            "|Female|    13|30.357970527906065|\n",
            "|Female|    37| 57.94047153077633|\n",
            "|Female|     0|              NULL|\n",
            "+------+------+------------------+\n",
            "only showing top 5 rows\n",
            "\n"
          ]
        }
      ]
    },
    {
      "cell_type": "code",
      "source": [
        "df4.filter((df4.age>30)&(df4.salary>5)).show(5)"
      ],
      "metadata": {
        "colab": {
          "base_uri": "https://localhost:8080/"
        },
        "id": "h-a7yiEhywM_",
        "outputId": "26da7ec7-e041-4ceb-ac66-92c9268879d5"
      },
      "execution_count": 21,
      "outputs": [
        {
          "output_type": "stream",
          "name": "stdout",
          "text": [
            "+-------------------+------------------+------+------------------+-----+------+------+------+--------+------+--------+\n",
            "|                 id|               age|salary|             score|sales|height|weight|gender|category|income|expenses|\n",
            "+-------------------+------------------+------+------------------+-----+------+------+------+--------+------+--------+\n",
            "| 0.2515595782593636| 70.97364852287149|    17| 71.71375356646551|   82|     1|    72|  Male|       A|    66|      53|\n",
            "| 0.6392921379278927|30.357970527906065|    13|              NULL|   22|    69|    58|Female|       A|     0|      74|\n",
            "| 0.7555506990689408| 57.94047153077633|    37| 99.05156945373632|   18|    67|    94|Female|       A|    91|      89|\n",
            "|0.07531261247891552| 78.00738662272417|    44|57.377461450339794|   32|    83|    68|  Male|       A|     3|      35|\n",
            "| 0.6088087252200041| 46.04202629270567|    20| 82.62279087618317|   83|    39|    26|  Male|       A|    10|      58|\n",
            "+-------------------+------------------+------+------------------+-----+------+------+------+--------+------+--------+\n",
            "only showing top 5 rows\n",
            "\n"
          ]
        }
      ]
    },
    {
      "cell_type": "code",
      "source": [
        "from pyspark.sql.functions import mean,round,sum\n",
        "df4.groupBy('category').agg(\n",
        "    round(mean('salary'),2).alias('mean_salary'),\n",
        "    round(sum('salary'),2).alias('sum_salary')\n",
        ").show(10)"
      ],
      "metadata": {
        "colab": {
          "base_uri": "https://localhost:8080/"
        },
        "id": "zYSAojzK2U9-",
        "outputId": "871240d7-8ba2-413a-a6a1-6ba64a91abe6"
      },
      "execution_count": 22,
      "outputs": [
        {
          "output_type": "stream",
          "name": "stdout",
          "text": [
            "+--------+-----------+----------+\n",
            "|category|mean_salary|sum_salary|\n",
            "+--------+-----------+----------+\n",
            "|       A|      49.49| 247412615|\n",
            "|       B|      49.51| 247582007|\n",
            "+--------+-----------+----------+\n",
            "\n"
          ]
        }
      ]
    },
    {
      "cell_type": "code",
      "source": [
        "df4.sort('height',\"score\", ascending=False).show(10)"
      ],
      "metadata": {
        "colab": {
          "base_uri": "https://localhost:8080/"
        },
        "id": "V5ZGeLhu4G-a",
        "outputId": "69770e81-b683-4ebd-9d75-1348ecd3889d"
      },
      "execution_count": 23,
      "outputs": [
        {
          "output_type": "stream",
          "name": "stdout",
          "text": [
            "+--------------------+------------------+------+-----------------+-----+------+------+------+--------+------+--------+\n",
            "|                  id|               age|salary|            score|sales|height|weight|gender|category|income|expenses|\n",
            "+--------------------+------------------+------+-----------------+-----+------+------+------+--------+------+--------+\n",
            "| 0.16933902279650814|              NULL|    37|99.99842061516966|   63|    99|    78|Female|       B|    60|      36|\n",
            "|  0.4414179206080756| 47.31491599580799|    17|99.99629934376922|   96|    99|    53|Female|       A|    13|      63|\n",
            "|  0.6365465779061935| 75.97020871674081|    59|99.99605629873773|   56|    99|    82|  Male|       A|    36|      64|\n",
            "|   0.137572774067943| 46.72427635576165|    16|99.99478454051689|   14|    99|    68|Female|       B|    20|      47|\n",
            "|  0.7188334449042442|              NULL|    24|99.99452559017527|    5|    99|    66|Female|       B|    73|      92|\n",
            "|  0.6186372186898206| 68.40377455302632|     9|99.99385982998031|   24|    99|    55|Female|       A|     4|      20|\n",
            "| 0.01702158526089126|              NULL|    71|99.99101670242504|   95|    99|    41|Female|       A|    54|      17|\n",
            "| 0.21138505523915896|1.5385584748399683|    41|99.99093901732411|   76|    99|    95|Female|       A|     2|       1|\n",
            "|   0.595808681898794|              NULL|    27|99.98989820461763|   61|    99|    12|  Male|       B|    71|       3|\n",
            "|0.053015111980724394| 91.17708899283798|    46|99.98754671474525|   74|    99|    41|  Male|       B|     8|      82|\n",
            "+--------------------+------------------+------+-----------------+-----+------+------+------+--------+------+--------+\n",
            "only showing top 10 rows\n",
            "\n"
          ]
        }
      ]
    },
    {
      "cell_type": "code",
      "source": [
        "#renamed a column\n",
        "renamed_df=df4.withColumnRenamed(\"income\",\"annual_income\") \\\n",
        "              .withColumnRenamed(\"score\", \"annual_score\")\n",
        "renamed_df.show(10)"
      ],
      "metadata": {
        "colab": {
          "base_uri": "https://localhost:8080/"
        },
        "id": "bjTcR0I77hJN",
        "outputId": "fcb941b3-3707-4bd5-d472-4ab27265174e"
      },
      "execution_count": 24,
      "outputs": [
        {
          "output_type": "stream",
          "name": "stdout",
          "text": [
            "+-------------------+------------------+------+------------------+-----+------+------+------+--------+-------------+--------+\n",
            "|                 id|               age|salary|      annual_score|sales|height|weight|gender|category|annual_income|expenses|\n",
            "+-------------------+------------------+------+------------------+-----+------+------+------+--------+-------------+--------+\n",
            "| 0.6565552949992319| 24.22600602366628|     6| 79.75769828959885|    8|    30|    42|  Male|       A|           70|      85|\n",
            "| 0.2515595782593636| 70.97364852287149|    17| 71.71375356646551|   82|     1|    72|  Male|       A|           66|      53|\n",
            "| 0.6392921379278927|30.357970527906065|    13|              NULL|   22|    69|    58|Female|       A|            0|      74|\n",
            "| 0.7555506990689408| 57.94047153077633|    37| 99.05156945373632|   18|    67|    94|Female|       A|           91|      89|\n",
            "|0.34380469538701885|              NULL|     0| 68.12994102604317|   50|    66|    29|Female|       A|           39|      10|\n",
            "|0.07531261247891552| 78.00738662272417|    44|57.377461450339794|   32|    83|    68|  Male|       A|            3|      35|\n",
            "| 0.6520025939987977| 5.739474360847097|    60|              NULL|   69|    20|    59|Female|       A|           89|      94|\n",
            "|  0.635481528615935|29.232534249025754|    33| 72.17303870051973|   19|    42|     5|Female|       A|            1|      11|\n",
            "| 0.6088087252200041| 46.04202629270567|    20| 82.62279087618317|   83|    39|    26|  Male|       A|           10|      58|\n",
            "| 0.9688522184233442|              NULL|    32|              NULL|   55|    88|    83|Female|       A|           98|      18|\n",
            "+-------------------+------------------+------+------------------+-----+------+------+------+--------+-------------+--------+\n",
            "only showing top 10 rows\n",
            "\n"
          ]
        }
      ]
    },
    {
      "cell_type": "code",
      "source": [
        "# drop\n",
        "reduced_df = df4.drop(\"id\", \"height\")\n",
        "reduced_df.show(10)"
      ],
      "metadata": {
        "colab": {
          "base_uri": "https://localhost:8080/"
        },
        "id": "JXCkVcep9uAF",
        "outputId": "b2f90985-0125-4b74-ee5c-99f3439adaba"
      },
      "execution_count": 25,
      "outputs": [
        {
          "output_type": "stream",
          "name": "stdout",
          "text": [
            "+------------------+------+------------------+-----+------+------+--------+------+--------+\n",
            "|               age|salary|             score|sales|weight|gender|category|income|expenses|\n",
            "+------------------+------+------------------+-----+------+------+--------+------+--------+\n",
            "| 24.22600602366628|     6| 79.75769828959885|    8|    42|  Male|       A|    70|      85|\n",
            "| 70.97364852287149|    17| 71.71375356646551|   82|    72|  Male|       A|    66|      53|\n",
            "|30.357970527906065|    13|              NULL|   22|    58|Female|       A|     0|      74|\n",
            "| 57.94047153077633|    37| 99.05156945373632|   18|    94|Female|       A|    91|      89|\n",
            "|              NULL|     0| 68.12994102604317|   50|    29|Female|       A|    39|      10|\n",
            "| 78.00738662272417|    44|57.377461450339794|   32|    68|  Male|       A|     3|      35|\n",
            "| 5.739474360847097|    60|              NULL|   69|    59|Female|       A|    89|      94|\n",
            "|29.232534249025754|    33| 72.17303870051973|   19|     5|Female|       A|     1|      11|\n",
            "| 46.04202629270567|    20| 82.62279087618317|   83|    26|  Male|       A|    10|      58|\n",
            "|              NULL|    32|              NULL|   55|    83|Female|       A|    98|      18|\n",
            "+------------------+------+------------------+-----+------+------+--------+------+--------+\n",
            "only showing top 10 rows\n",
            "\n"
          ]
        }
      ]
    },
    {
      "cell_type": "markdown",
      "source": [
        "# **Section 4: Working with Missing Data**"
      ],
      "metadata": {
        "id": "s0gtS4K6nhuH"
      }
    },
    {
      "cell_type": "code",
      "source": [
        "from pyspark.sql.functions import col,isnan,when,count\n",
        "\n",
        "missing_values = df4.select([sum(col(c).isNull().cast('Int')).alias(c) for c in df4.columns])\n",
        "missing_values.show()"
      ],
      "metadata": {
        "id": "9kFKRxalnh_S",
        "colab": {
          "base_uri": "https://localhost:8080/"
        },
        "outputId": "890b2c19-8ca2-4db9-e6a0-96080a6c3376"
      },
      "execution_count": 27,
      "outputs": [
        {
          "output_type": "stream",
          "name": "stdout",
          "text": [
            "+---+-------+------+-------+-----+------+------+------+--------+------+--------+\n",
            "| id|    age|salary|  score|sales|height|weight|gender|category|income|expenses|\n",
            "+---+-------+------+-------+-----+------+------+------+--------+------+--------+\n",
            "|  0|4000499|     0|4001316|    0|     0|     0|     0|       0|     0|       0|\n",
            "+---+-------+------+-------+-----+------+------+------+--------+------+--------+\n",
            "\n"
          ]
        }
      ]
    },
    {
      "cell_type": "code",
      "source": [
        "df_copy = df4.select(\"*\")\n",
        "df_cleaned = df_copy.dropna()\n",
        "df_cleaned.show()"
      ],
      "metadata": {
        "colab": {
          "base_uri": "https://localhost:8080/"
        },
        "id": "c7kWVTbV9rc5",
        "outputId": "ccaafc49-85d2-4fa6-ba34-3de041680b72"
      },
      "execution_count": 28,
      "outputs": [
        {
          "output_type": "stream",
          "name": "stdout",
          "text": [
            "+--------------------+------------------+------+------------------+-----+------+------+------+--------+------+--------+\n",
            "|                  id|               age|salary|             score|sales|height|weight|gender|category|income|expenses|\n",
            "+--------------------+------------------+------+------------------+-----+------+------+------+--------+------+--------+\n",
            "|  0.6565552949992319| 24.22600602366628|     6| 79.75769828959885|    8|    30|    42|  Male|       A|    70|      85|\n",
            "|  0.2515595782593636| 70.97364852287149|    17| 71.71375356646551|   82|     1|    72|  Male|       A|    66|      53|\n",
            "|  0.7555506990689408| 57.94047153077633|    37| 99.05156945373632|   18|    67|    94|Female|       A|    91|      89|\n",
            "| 0.07531261247891552| 78.00738662272417|    44|57.377461450339794|   32|    83|    68|  Male|       A|     3|      35|\n",
            "|   0.635481528615935|29.232534249025754|    33| 72.17303870051973|   19|    42|     5|Female|       A|     1|      11|\n",
            "|  0.6088087252200041| 46.04202629270567|    20| 82.62279087618317|   83|    39|    26|  Male|       A|    10|      58|\n",
            "|0.054599328832547256|58.445521939730064|    84|29.619007900937078|   94|    72|    74|  Male|       A|    78|      87|\n",
            "|  0.5454863233449233| 36.65540490085631|     3| 80.95472655129328|   60|    35|    93|  Male|       A|    25|      88|\n",
            "|  0.7408143015309203| 52.83048441274324|    95|46.769693535768866|   59|     4|    10|Female|       A|    19|      38|\n",
            "|4.552782766258367...|  36.8279008351304|    34| 63.51762459107621|   43|     6|    83|Female|       A|    69|      45|\n",
            "| 0.45401368947315324| 83.01161743120828|    83| 21.36473871373613|   10|    48|     0|Female|       A|    12|      72|\n",
            "| 0.17341238506215195|  81.8143902590269|    67| 67.67123640498184|   52|    72|    10|Female|       A|    65|      96|\n",
            "|  0.5436339619980622|  41.2143749297729|    18|19.465354791626822|   34|    26|    97|Female|       A|    53|      60|\n",
            "| 0.29046522630155214| 42.35735206845776|    81|56.120306677745255|    5|    64|    35|  Male|       A|    47|      76|\n",
            "|  0.7943068875839633|  75.3903419244539|    74| 66.35318574415247|   29|    93|    54|  Male|       A|    15|      82|\n",
            "|  0.6515133759440173|39.656089700526934|     8| 76.25487950602805|   41|    66|    57|Female|       A|    50|      81|\n",
            "|  0.6942668428415231| 69.44668653860472|    15|  80.4118897410932|   37|    38|    25|  Male|       A|    24|      98|\n",
            "|   0.984190209323684|48.482201430183444|    45| 85.24063319315002|    5|    51|    54|Female|       A|     8|      15|\n",
            "|  0.5952518968572876| 25.79457498026566|    54|17.344834627413174|    4|    67|    45|Female|       A|    38|      99|\n",
            "|  0.7443564202615621|24.045143751523245|    76|29.160812675849577|   15|    96|    85|Female|       A|    43|      17|\n",
            "+--------------------+------------------+------+------------------+-----+------+------+------+--------+------+--------+\n",
            "only showing top 20 rows\n",
            "\n"
          ]
        }
      ]
    },
    {
      "cell_type": "code",
      "source": [
        "from pyspark.sql.functions import col,isnan,when,count\n",
        "\n",
        "missing_values = df_cleaned.select([sum(col(c).isNull().cast('Int')).alias(c) for c in df_cleaned.columns])\n",
        "missing_values.show()"
      ],
      "metadata": {
        "colab": {
          "base_uri": "https://localhost:8080/"
        },
        "id": "Ag3XYEGI-4We",
        "outputId": "dbf345f7-cd0f-4d47-b573-4d3973109312"
      },
      "execution_count": 30,
      "outputs": [
        {
          "output_type": "stream",
          "name": "stdout",
          "text": [
            "+---+---+------+-----+-----+------+------+------+--------+------+--------+\n",
            "| id|age|salary|score|sales|height|weight|gender|category|income|expenses|\n",
            "+---+---+------+-----+-----+------+------+------+--------+------+--------+\n",
            "|  0|  0|     0|    0|    0|     0|     0|     0|       0|     0|       0|\n",
            "+---+---+------+-----+-----+------+------+------+--------+------+--------+\n",
            "\n"
          ]
        }
      ]
    },
    {
      "cell_type": "code",
      "source": [
        "df_cleaned.count()"
      ],
      "metadata": {
        "colab": {
          "base_uri": "https://localhost:8080/"
        },
        "id": "PSgsCTiN_VSI",
        "outputId": "093b24db-ab17-4968-adae-c202743eeff7"
      },
      "execution_count": 31,
      "outputs": [
        {
          "output_type": "execute_result",
          "data": {
            "text/plain": [
              "3598970"
            ]
          },
          "metadata": {},
          "execution_count": 31
        }
      ]
    },
    {
      "cell_type": "code",
      "source": [
        "#drop selected values\n",
        "columns_to_check = [\"age\",\"salary\"]\n",
        "df_copy = df4.select(\"*\")\n",
        "df_cleaned = df_copy.dropna(subset=columns_to_check)\n",
        "df_cleaned.count()"
      ],
      "metadata": {
        "colab": {
          "base_uri": "https://localhost:8080/"
        },
        "id": "j-4vxtYI_AgR",
        "outputId": "b6b1ec35-88fa-4c63-df90-47697fd07fdb"
      },
      "execution_count": 32,
      "outputs": [
        {
          "output_type": "execute_result",
          "data": {
            "text/plain": [
              "5999501"
            ]
          },
          "metadata": {},
          "execution_count": 32
        }
      ]
    },
    {
      "cell_type": "code",
      "source": [
        "#filling missing values with constance\n",
        "df_copy = df4.select(\"*\")\n",
        "df_filled = df_copy.fillna({'age':30,'score':50})\n",
        "df_filled.show(30)"
      ],
      "metadata": {
        "colab": {
          "base_uri": "https://localhost:8080/"
        },
        "id": "Cp86PNMlBFnB",
        "outputId": "5711c3d5-911f-4970-bf0d-c9b9707c2475"
      },
      "execution_count": 33,
      "outputs": [
        {
          "output_type": "stream",
          "name": "stdout",
          "text": [
            "+--------------------+------------------+------+------------------+-----+------+------+------+--------+------+--------+\n",
            "|                  id|               age|salary|             score|sales|height|weight|gender|category|income|expenses|\n",
            "+--------------------+------------------+------+------------------+-----+------+------+------+--------+------+--------+\n",
            "|  0.6565552949992319| 24.22600602366628|     6| 79.75769828959885|    8|    30|    42|  Male|       A|    70|      85|\n",
            "|  0.2515595782593636| 70.97364852287149|    17| 71.71375356646551|   82|     1|    72|  Male|       A|    66|      53|\n",
            "|  0.6392921379278927|30.357970527906065|    13|              50.0|   22|    69|    58|Female|       A|     0|      74|\n",
            "|  0.7555506990689408| 57.94047153077633|    37| 99.05156945373632|   18|    67|    94|Female|       A|    91|      89|\n",
            "| 0.34380469538701885|              30.0|     0| 68.12994102604317|   50|    66|    29|Female|       A|    39|      10|\n",
            "| 0.07531261247891552| 78.00738662272417|    44|57.377461450339794|   32|    83|    68|  Male|       A|     3|      35|\n",
            "|  0.6520025939987977| 5.739474360847097|    60|              50.0|   69|    20|    59|Female|       A|    89|      94|\n",
            "|   0.635481528615935|29.232534249025754|    33| 72.17303870051973|   19|    42|     5|Female|       A|     1|      11|\n",
            "|  0.6088087252200041| 46.04202629270567|    20| 82.62279087618317|   83|    39|    26|  Male|       A|    10|      58|\n",
            "|  0.9688522184233442|              30.0|    32|              50.0|   55|    88|    83|Female|       A|    98|      18|\n",
            "|  0.7095122526980591|              30.0|    69|              50.0|   72|    39|    97|  Male|       A|    88|      18|\n",
            "|0.054599328832547256|58.445521939730064|    84|29.619007900937078|   94|    72|    74|  Male|       A|    78|      87|\n",
            "|  0.7232072841267063| 56.98358930373385|    20|              50.0|   59|    14|    64|  Male|       A|    45|      51|\n",
            "|  0.9792774293958025| 5.850178599840006|    20|              50.0|   99|     9|    61|Female|       A|    16|       8|\n",
            "|  0.6455441593808561| 68.47061987702949|    75|              50.0|   62|    31|    44|Female|       A|     2|      42|\n",
            "|   0.483451238159184|              30.0|    24|              50.0|   94|    78|    64|Female|       A|    20|      25|\n",
            "|0.005039492476539786| 64.93671011719317|    45|              50.0|   31|    63|    62|  Male|       A|    35|       6|\n",
            "|  0.5454863233449233| 36.65540490085631|     3| 80.95472655129328|   60|    35|    93|  Male|       A|    25|      88|\n",
            "|  0.7664261144217706|3.5734458508151823|    92|              50.0|    1|    32|     4|Female|       A|    76|      94|\n",
            "| 0.49419657787059956|              30.0|    32| 16.81279961603194|   86|    74|    42|Female|       A|    90|      20|\n",
            "|  0.6578555647494496|              30.0|    46|              50.0|   36|    58|     0|Female|       A|    41|      37|\n",
            "|0.010815371607771573|              30.0|    40|6.1423164855707535|   37|    73|    61|Female|       A|    39|      73|\n",
            "|  0.8316027808351703|   64.751100030111|    96|              50.0|   13|    24|    30|Female|       A|     5|      19|\n",
            "|  0.8903944884892366|              30.0|    81|              50.0|   41|    48|     8|Female|       A|    82|      90|\n",
            "|  0.8946384637460324|              30.0|    32|16.222098630847015|   68|    85|    69|  Male|       A|    94|      25|\n",
            "|  0.2616187823085325|              30.0|    39| 91.41075311900889|   65|    88|    51|  Male|       A|    63|      18|\n",
            "|  0.7670569675151151|              30.0|    74|              50.0|   10|    19|    29|  Male|       A|    74|      87|\n",
            "| 0.28862497348283567| 34.91854369238886|    76|              50.0|   73|    43|    48|  Male|       A|    83|      39|\n",
            "|   0.247320653730023|              30.0|    44|55.584824186246664|   16|    89|     7|Female|       A|    82|      39|\n",
            "| 0.48818332179439294| 16.66692284929838|    84|              50.0|   16|    72|    46|  Male|       A|    35|      36|\n",
            "+--------------------+------------------+------+------------------+-----+------+------+------+--------+------+--------+\n",
            "only showing top 30 rows\n",
            "\n"
          ]
        }
      ]
    },
    {
      "cell_type": "code",
      "source": [
        "from pyspark.ml.feature import Imputer\n",
        "\n",
        "imputer  = Imputer(inputCols=[\"age\",\"score\"], outputCols=[\"age_imputed\",\"score_imputed\"],strategy=\"mean\")\n",
        "df_imputed = imputer.fit(df4).transform(df4)\n",
        "df_imputed.show(40)"
      ],
      "metadata": {
        "colab": {
          "base_uri": "https://localhost:8080/"
        },
        "id": "5cLEbtZ6CdZ3",
        "outputId": "9a57e013-7404-466e-c0c2-4921054ebe84"
      },
      "execution_count": 34,
      "outputs": [
        {
          "output_type": "stream",
          "name": "stdout",
          "text": [
            "+--------------------+------------------+------+------------------+-----+------+------+------+--------+------+--------+------------------+------------------+\n",
            "|                  id|               age|salary|             score|sales|height|weight|gender|category|income|expenses|       age_imputed|     score_imputed|\n",
            "+--------------------+------------------+------+------------------+-----+------+------+------+--------+------+--------+------------------+------------------+\n",
            "|  0.6565552949992319| 24.22600602366628|     6| 79.75769828959885|    8|    30|    42|  Male|       A|    70|      85| 24.22600602366628| 79.75769828959885|\n",
            "|  0.2515595782593636| 70.97364852287149|    17| 71.71375356646551|   82|     1|    72|  Male|       A|    66|      53| 70.97364852287149| 71.71375356646551|\n",
            "|  0.6392921379278927|30.357970527906065|    13|              NULL|   22|    69|    58|Female|       A|     0|      74|30.357970527906065| 49.99490561227385|\n",
            "|  0.7555506990689408| 57.94047153077633|    37| 99.05156945373632|   18|    67|    94|Female|       A|    91|      89| 57.94047153077633| 99.05156945373632|\n",
            "| 0.34380469538701885|              NULL|     0| 68.12994102604317|   50|    66|    29|Female|       A|    39|      10|49.996444602802995| 68.12994102604317|\n",
            "| 0.07531261247891552| 78.00738662272417|    44|57.377461450339794|   32|    83|    68|  Male|       A|     3|      35| 78.00738662272417|57.377461450339794|\n",
            "|  0.6520025939987977| 5.739474360847097|    60|              NULL|   69|    20|    59|Female|       A|    89|      94| 5.739474360847097| 49.99490561227385|\n",
            "|   0.635481528615935|29.232534249025754|    33| 72.17303870051973|   19|    42|     5|Female|       A|     1|      11|29.232534249025754| 72.17303870051973|\n",
            "|  0.6088087252200041| 46.04202629270567|    20| 82.62279087618317|   83|    39|    26|  Male|       A|    10|      58| 46.04202629270567| 82.62279087618317|\n",
            "|  0.9688522184233442|              NULL|    32|              NULL|   55|    88|    83|Female|       A|    98|      18|49.996444602802995| 49.99490561227385|\n",
            "|  0.7095122526980591|              NULL|    69|              NULL|   72|    39|    97|  Male|       A|    88|      18|49.996444602802995| 49.99490561227385|\n",
            "|0.054599328832547256|58.445521939730064|    84|29.619007900937078|   94|    72|    74|  Male|       A|    78|      87|58.445521939730064|29.619007900937078|\n",
            "|  0.7232072841267063| 56.98358930373385|    20|              NULL|   59|    14|    64|  Male|       A|    45|      51| 56.98358930373385| 49.99490561227385|\n",
            "|  0.9792774293958025| 5.850178599840006|    20|              NULL|   99|     9|    61|Female|       A|    16|       8| 5.850178599840006| 49.99490561227385|\n",
            "|  0.6455441593808561| 68.47061987702949|    75|              NULL|   62|    31|    44|Female|       A|     2|      42| 68.47061987702949| 49.99490561227385|\n",
            "|   0.483451238159184|              NULL|    24|              NULL|   94|    78|    64|Female|       A|    20|      25|49.996444602802995| 49.99490561227385|\n",
            "|0.005039492476539786| 64.93671011719317|    45|              NULL|   31|    63|    62|  Male|       A|    35|       6| 64.93671011719317| 49.99490561227385|\n",
            "|  0.5454863233449233| 36.65540490085631|     3| 80.95472655129328|   60|    35|    93|  Male|       A|    25|      88| 36.65540490085631| 80.95472655129328|\n",
            "|  0.7664261144217706|3.5734458508151823|    92|              NULL|    1|    32|     4|Female|       A|    76|      94|3.5734458508151823| 49.99490561227385|\n",
            "| 0.49419657787059956|              NULL|    32| 16.81279961603194|   86|    74|    42|Female|       A|    90|      20|49.996444602802995| 16.81279961603194|\n",
            "|  0.6578555647494496|              NULL|    46|              NULL|   36|    58|     0|Female|       A|    41|      37|49.996444602802995| 49.99490561227385|\n",
            "|0.010815371607771573|              NULL|    40|6.1423164855707535|   37|    73|    61|Female|       A|    39|      73|49.996444602802995|6.1423164855707535|\n",
            "|  0.8316027808351703|   64.751100030111|    96|              NULL|   13|    24|    30|Female|       A|     5|      19|   64.751100030111| 49.99490561227385|\n",
            "|  0.8903944884892366|              NULL|    81|              NULL|   41|    48|     8|Female|       A|    82|      90|49.996444602802995| 49.99490561227385|\n",
            "|  0.8946384637460324|              NULL|    32|16.222098630847015|   68|    85|    69|  Male|       A|    94|      25|49.996444602802995|16.222098630847015|\n",
            "|  0.2616187823085325|              NULL|    39| 91.41075311900889|   65|    88|    51|  Male|       A|    63|      18|49.996444602802995| 91.41075311900889|\n",
            "|  0.7670569675151151|              NULL|    74|              NULL|   10|    19|    29|  Male|       A|    74|      87|49.996444602802995| 49.99490561227385|\n",
            "| 0.28862497348283567| 34.91854369238886|    76|              NULL|   73|    43|    48|  Male|       A|    83|      39| 34.91854369238886| 49.99490561227385|\n",
            "|   0.247320653730023|              NULL|    44|55.584824186246664|   16|    89|     7|Female|       A|    82|      39|49.996444602802995|55.584824186246664|\n",
            "| 0.48818332179439294| 16.66692284929838|    84|              NULL|   16|    72|    46|  Male|       A|    35|      36| 16.66692284929838| 49.99490561227385|\n",
            "|  0.6472468118936782| 25.08848500202907|    12|              NULL|    1|    60|    54|Female|       A|    87|      87| 25.08848500202907| 49.99490561227385|\n",
            "|  0.2824603777212489|              NULL|    79|29.952166731998563|   92|    98|     2|  Male|       A|    59|      38|49.996444602802995|29.952166731998563|\n",
            "| 0.16621753840716358| 89.39373477112586|    18|              NULL|    8|    73|    63|Female|       A|    54|      56| 89.39373477112586| 49.99490561227385|\n",
            "|0.001979578565689...| 19.95627122828123|    86|              NULL|   26|    41|    12|  Male|       A|    17|      93| 19.95627122828123| 49.99490561227385|\n",
            "|  0.9911223195821167|              NULL|    50|              NULL|   24|    34|    59|Female|       A|    73|      92|49.996444602802995| 49.99490561227385|\n",
            "|   0.905720440093089|              NULL|    64|  92.2395806998369|   19|    25|    98|Female|       A|    40|      20|49.996444602802995|  92.2395806998369|\n",
            "|  0.7408143015309203| 52.83048441274324|    95|46.769693535768866|   59|     4|    10|Female|       A|    19|      38| 52.83048441274324|46.769693535768866|\n",
            "| 0.14028386492977396|14.802205609816365|    67|              NULL|   11|    72|     2|Female|       A|    36|      12|14.802205609816365| 49.99490561227385|\n",
            "|4.552782766258367...|  36.8279008351304|    34| 63.51762459107621|   43|     6|    83|Female|       A|    69|      45|  36.8279008351304| 63.51762459107621|\n",
            "| 0.49223960729756844|              NULL|    53|12.854786541167496|   26|    94|    59|Female|       A|     7|      28|49.996444602802995|12.854786541167496|\n",
            "+--------------------+------------------+------+------------------+-----+------+------+------+--------+------+--------+------------------+------------------+\n",
            "only showing top 40 rows\n",
            "\n"
          ]
        }
      ]
    },
    {
      "cell_type": "code",
      "source": [
        "\n",
        "\n",
        "from pyspark.sql.functions import format_number, col\n",
        "\n",
        "df_imputed = df_imputed.withColumn(\"age_imputed\",format_number(col(\"age_imputed\"), 0))\n",
        "df_imputed = df_imputed.withColumn(\"score_imputed\",format_number(col(\"score_imputed\"), 3))\n",
        "\n",
        "df_imputed.show(30)\n",
        "\n"
      ],
      "metadata": {
        "colab": {
          "base_uri": "https://localhost:8080/"
        },
        "id": "NSorWVbZGMqh",
        "outputId": "b91e7307-9ff6-4e40-f029-bbf2becd80c5"
      },
      "execution_count": 37,
      "outputs": [
        {
          "output_type": "stream",
          "name": "stdout",
          "text": [
            "+--------------------+------------------+------+------------------+-----+------+------+------+--------+------+--------+-----------+-------------+\n",
            "|                  id|               age|salary|             score|sales|height|weight|gender|category|income|expenses|age_imputed|score_imputed|\n",
            "+--------------------+------------------+------+------------------+-----+------+------+------+--------+------+--------+-----------+-------------+\n",
            "|  0.6565552949992319| 24.22600602366628|     6| 79.75769828959885|    8|    30|    42|  Male|       A|    70|      85|         24|       79.758|\n",
            "|  0.2515595782593636| 70.97364852287149|    17| 71.71375356646551|   82|     1|    72|  Male|       A|    66|      53|         71|       71.714|\n",
            "|  0.6392921379278927|30.357970527906065|    13|              NULL|   22|    69|    58|Female|       A|     0|      74|         30|       49.995|\n",
            "|  0.7555506990689408| 57.94047153077633|    37| 99.05156945373632|   18|    67|    94|Female|       A|    91|      89|         58|       99.052|\n",
            "| 0.34380469538701885|              NULL|     0| 68.12994102604317|   50|    66|    29|Female|       A|    39|      10|         50|       68.130|\n",
            "| 0.07531261247891552| 78.00738662272417|    44|57.377461450339794|   32|    83|    68|  Male|       A|     3|      35|         78|       57.377|\n",
            "|  0.6520025939987977| 5.739474360847097|    60|              NULL|   69|    20|    59|Female|       A|    89|      94|          6|       49.995|\n",
            "|   0.635481528615935|29.232534249025754|    33| 72.17303870051973|   19|    42|     5|Female|       A|     1|      11|         29|       72.173|\n",
            "|  0.6088087252200041| 46.04202629270567|    20| 82.62279087618317|   83|    39|    26|  Male|       A|    10|      58|         46|       82.623|\n",
            "|  0.9688522184233442|              NULL|    32|              NULL|   55|    88|    83|Female|       A|    98|      18|         50|       49.995|\n",
            "|  0.7095122526980591|              NULL|    69|              NULL|   72|    39|    97|  Male|       A|    88|      18|         50|       49.995|\n",
            "|0.054599328832547256|58.445521939730064|    84|29.619007900937078|   94|    72|    74|  Male|       A|    78|      87|         58|       29.619|\n",
            "|  0.7232072841267063| 56.98358930373385|    20|              NULL|   59|    14|    64|  Male|       A|    45|      51|         57|       49.995|\n",
            "|  0.9792774293958025| 5.850178599840006|    20|              NULL|   99|     9|    61|Female|       A|    16|       8|          6|       49.995|\n",
            "|  0.6455441593808561| 68.47061987702949|    75|              NULL|   62|    31|    44|Female|       A|     2|      42|         68|       49.995|\n",
            "|   0.483451238159184|              NULL|    24|              NULL|   94|    78|    64|Female|       A|    20|      25|         50|       49.995|\n",
            "|0.005039492476539786| 64.93671011719317|    45|              NULL|   31|    63|    62|  Male|       A|    35|       6|         65|       49.995|\n",
            "|  0.5454863233449233| 36.65540490085631|     3| 80.95472655129328|   60|    35|    93|  Male|       A|    25|      88|         37|       80.955|\n",
            "|  0.7664261144217706|3.5734458508151823|    92|              NULL|    1|    32|     4|Female|       A|    76|      94|          4|       49.995|\n",
            "| 0.49419657787059956|              NULL|    32| 16.81279961603194|   86|    74|    42|Female|       A|    90|      20|         50|       16.813|\n",
            "|  0.6578555647494496|              NULL|    46|              NULL|   36|    58|     0|Female|       A|    41|      37|         50|       49.995|\n",
            "|0.010815371607771573|              NULL|    40|6.1423164855707535|   37|    73|    61|Female|       A|    39|      73|         50|        6.142|\n",
            "|  0.8316027808351703|   64.751100030111|    96|              NULL|   13|    24|    30|Female|       A|     5|      19|         65|       49.995|\n",
            "|  0.8903944884892366|              NULL|    81|              NULL|   41|    48|     8|Female|       A|    82|      90|         50|       49.995|\n",
            "|  0.8946384637460324|              NULL|    32|16.222098630847015|   68|    85|    69|  Male|       A|    94|      25|         50|       16.222|\n",
            "|  0.2616187823085325|              NULL|    39| 91.41075311900889|   65|    88|    51|  Male|       A|    63|      18|         50|       91.411|\n",
            "|  0.7670569675151151|              NULL|    74|              NULL|   10|    19|    29|  Male|       A|    74|      87|         50|       49.995|\n",
            "| 0.28862497348283567| 34.91854369238886|    76|              NULL|   73|    43|    48|  Male|       A|    83|      39|         35|       49.995|\n",
            "|   0.247320653730023|              NULL|    44|55.584824186246664|   16|    89|     7|Female|       A|    82|      39|         50|       55.585|\n",
            "| 0.48818332179439294| 16.66692284929838|    84|              NULL|   16|    72|    46|  Male|       A|    35|      36|         17|       49.995|\n",
            "+--------------------+------------------+------+------------------+-----+------+------+------+--------+------+--------+-----------+-------------+\n",
            "only showing top 30 rows\n",
            "\n"
          ]
        }
      ]
    },
    {
      "cell_type": "code",
      "source": [
        "\n",
        "\n",
        "# advanced: replace missing values with a custom logic using UDF (user-defined functions)\n",
        "from pyspark.sql.functions import udf\n",
        "from pyspark.sql.types import StringType\n",
        "\n",
        "def custom_fill(value):\n",
        "  if value is None:\n",
        "    return \"unknown\"\n",
        "  else:\n",
        "    return value\n",
        "\n",
        "\n",
        "custom_fill_udf = udf(custom_fill, StringType())\n",
        "df_filled = df4.withColumn(\"score_filled\", custom_fill_udf(df4.score))\n",
        "\n",
        "df_filled.show(5)\n",
        "\n"
      ],
      "metadata": {
        "colab": {
          "base_uri": "https://localhost:8080/"
        },
        "id": "VfAJ9oJ4E_bw",
        "outputId": "a7b445f9-581f-46b2-d559-69782b19b0d5"
      },
      "execution_count": 39,
      "outputs": [
        {
          "output_type": "stream",
          "name": "stdout",
          "text": [
            "+-------------------+------------------+------+-----------------+-----+------+------+------+--------+------+--------+-----------------+\n",
            "|                 id|               age|salary|            score|sales|height|weight|gender|category|income|expenses|     score_filled|\n",
            "+-------------------+------------------+------+-----------------+-----+------+------+------+--------+------+--------+-----------------+\n",
            "| 0.6565552949992319| 24.22600602366628|     6|79.75769828959885|    8|    30|    42|  Male|       A|    70|      85|79.75769828959885|\n",
            "| 0.2515595782593636| 70.97364852287149|    17|71.71375356646551|   82|     1|    72|  Male|       A|    66|      53|71.71375356646551|\n",
            "| 0.6392921379278927|30.357970527906065|    13|             NULL|   22|    69|    58|Female|       A|     0|      74|          unknown|\n",
            "| 0.7555506990689408| 57.94047153077633|    37|99.05156945373632|   18|    67|    94|Female|       A|    91|      89|99.05156945373632|\n",
            "|0.34380469538701885|              NULL|     0|68.12994102604317|   50|    66|    29|Female|       A|    39|      10|68.12994102604317|\n",
            "+-------------------+------------------+------+-----------------+-----+------+------+------+--------+------+--------+-----------------+\n",
            "only showing top 5 rows\n",
            "\n"
          ]
        }
      ]
    }
  ]
}